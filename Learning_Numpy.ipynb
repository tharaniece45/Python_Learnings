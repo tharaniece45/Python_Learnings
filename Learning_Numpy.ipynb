{
 "cells": [
  {
   "cell_type": "code",
   "execution_count": 1,
   "metadata": {},
   "outputs": [
    {
     "data": {
      "text/plain": [
       "array([[2, 4, 5],\n",
       "       [5, 6, 7]])"
      ]
     },
     "execution_count": 1,
     "metadata": {},
     "output_type": "execute_result"
    }
   ],
   "source": [
    "import numpy as np\n",
    "\n",
    "# Same length list given as input for ndarray\n",
    "my_list = [[2,4,5],[5,6,7]]\n",
    "my_array = np.array(my_list)\n",
    "my_array"
   ]
  },
  {
   "cell_type": "code",
   "execution_count": 2,
   "metadata": {},
   "outputs": [
    {
     "data": {
      "text/plain": [
       "array([list([2, 4, 5]), list([5, 6, 7, 8])], dtype=object)"
      ]
     },
     "execution_count": 2,
     "metadata": {},
     "output_type": "execute_result"
    }
   ],
   "source": [
    "# Different length list given as input for ndarray\n",
    "# Then type is modified as  dtype=object\n",
    "my_list = [[2,4,5],[5,6,7,8]]\n",
    "my_array = np.array(my_list)\n",
    "my_array"
   ]
  },
  {
   "cell_type": "code",
   "execution_count": 3,
   "metadata": {},
   "outputs": [
    {
     "name": "stdout",
     "output_type": "stream",
     "text": [
      "3\n",
      "(2, 3, 4)\n"
     ]
    }
   ],
   "source": [
    "# Dimension and shape of an ndarray\n",
    "# Creating a three dimendional array\n",
    "my_list = [[[2,4,5,6],[5,6,7,8],[3,5,2,5]],[[2,4,5,6],[5,6,7,8],[3,5,2,5]]]\n",
    "my_array = np.array(my_list)\n",
    "print(my_array.ndim)\n",
    "\n",
    "# Getting the shape of ndarray\n",
    "print(my_array.shape)"
   ]
  },
  {
   "cell_type": "code",
   "execution_count": 4,
   "metadata": {},
   "outputs": [
    {
     "name": "stdout",
     "output_type": "stream",
     "text": [
      "[0. 0. 0. 0. 0. 0. 0. 0. 0. 0.]\n"
     ]
    }
   ],
   "source": [
    "# creating array initialised with zero\n",
    "my_array = np.zeros(10)\n",
    "print(my_array)\n",
    "# ? zeros_like"
   ]
  },
  {
   "cell_type": "code",
   "execution_count": 5,
   "metadata": {},
   "outputs": [
    {
     "name": "stdout",
     "output_type": "stream",
     "text": [
      "[[0. 0. 0. 0.]\n",
      " [0. 0. 0. 0.]]\n"
     ]
    }
   ],
   "source": [
    "# Creating a multidimensional array with zero value\n",
    "my_array = np.zeros((2,4)) # here we need to give (())\n",
    "print(my_array)"
   ]
  },
  {
   "cell_type": "code",
   "execution_count": 6,
   "metadata": {},
   "outputs": [
    {
     "name": "stdout",
     "output_type": "stream",
     "text": [
      "[[1. 1. 1. 1.]\n",
      " [1. 1. 1. 1.]]\n"
     ]
    }
   ],
   "source": [
    "# Creating a multidimensional array with 1 value\n",
    "my_array = np.ones((2,4)) # here we need to give (())\n",
    "print(my_array)\n",
    "# ? ones_like"
   ]
  },
  {
   "cell_type": "code",
   "execution_count": 7,
   "metadata": {},
   "outputs": [
    {
     "name": "stdout",
     "output_type": "stream",
     "text": [
      "[[[4.67296746e-307 1.69121096e-306 1.06811015e-306 8.01101963e-307]\n",
      "  [1.37961302e-306 6.23053614e-307 1.69121639e-306 1.78022342e-306]\n",
      "  [6.89810244e-307 6.89811602e-307 7.56603881e-307 1.11260415e-306]\n",
      "  [9.34598247e-307 8.01097889e-307 1.78020169e-306 7.56601165e-307]]\n",
      "\n",
      " [[1.02359984e-306 1.33510679e-306 2.22522597e-306 6.23053614e-307]\n",
      "  [1.33511562e-306 6.89805151e-307 1.05700515e-307 1.11261774e-306]\n",
      "  [1.29060871e-306 8.34424766e-308 2.12203497e-312 8.34426039e-308]\n",
      "  [6.23054293e-307 0.00000000e+000 0.00000000e+000 1.11253693e-306]]]\n"
     ]
    }
   ],
   "source": [
    "\n",
    "# Creating a multidimensional array with non initialised \n",
    "# It’s not safe to assume that np.empty will return an array of all\n",
    "# zeros. In some cases, it may return uninitialized “garbage” values.\n",
    "my_array = np.empty((2,4,4)) # here we need to give (())\n",
    "print(my_array)"
   ]
  },
  {
   "cell_type": "code",
   "execution_count": 8,
   "metadata": {},
   "outputs": [
    {
     "name": "stdout",
     "output_type": "stream",
     "text": [
      "[4 4 4 4 4]\n"
     ]
    }
   ],
   "source": [
    "# Creating a multidimensional array with fill value\n",
    "my_array = np.full(5,4)\n",
    "print(my_array)\n",
    "# ? full_like"
   ]
  },
  {
   "cell_type": "code",
   "execution_count": 9,
   "metadata": {},
   "outputs": [
    {
     "data": {
      "text/plain": [
       "array([[1., 0.],\n",
       "       [0., 1.]])"
      ]
     },
     "execution_count": 9,
     "metadata": {},
     "output_type": "execute_result"
    }
   ],
   "source": [
    "# Create a square N × N identity matrix (1s on the diagonal and 0s elsewhere)\n",
    "np.identity(2, dtype=float)"
   ]
  },
  {
   "cell_type": "code",
   "execution_count": 10,
   "metadata": {},
   "outputs": [
    {
     "data": {
      "text/plain": [
       "array([[0., 0., 0., 0., 0.],\n",
       "       [1., 0., 0., 0., 0.],\n",
       "       [0., 1., 0., 0., 0.],\n",
       "       [0., 0., 1., 0., 0.]])"
      ]
     },
     "execution_count": 10,
     "metadata": {},
     "output_type": "execute_result"
    }
   ],
   "source": [
    "# Create N*M with different diagonal\n",
    "np.eye(2, dtype=float)\n",
    "#np.eye(2, dtype=int)\n",
    "\n",
    "np.eye(2,3)\n",
    "\n",
    "np.eye(4,5,k=0) # k=0 1's in diagonal\n",
    "\n",
    "np.eye(4,5,k=1) # k=1 1's in above diagonal\n",
    "\n",
    "np.eye(4,5,k=-1) # k=-1 1's in below diagonal and so on."
   ]
  },
  {
   "cell_type": "code",
   "execution_count": 11,
   "metadata": {},
   "outputs": [
    {
     "data": {
      "text/plain": [
       "dtype('int32')"
      ]
     },
     "execution_count": 11,
     "metadata": {},
     "output_type": "execute_result"
    }
   ],
   "source": [
    "# ndarray types\n",
    "my_array=np.array([2,3,4], dtype=np.int)\n",
    "# to get the data type of the ndarray elements\n",
    "my_array.dtype"
   ]
  },
  {
   "cell_type": "code",
   "execution_count": 12,
   "metadata": {},
   "outputs": [
    {
     "data": {
      "text/plain": [
       "dtype('float64')"
      ]
     },
     "execution_count": 12,
     "metadata": {},
     "output_type": "execute_result"
    }
   ],
   "source": [
    "# converting one dtype to another dtype in ndarray\n",
    "my_array_new = my_array.astype(np.float)\n",
    "my_array_new.dtype\n",
    "\n",
    "# same way if you convert float to int then it will be truncated\n",
    "# also you can convert the string charaters into numeric values\n",
    "# Calling astype always creates a new array (a copy of the data), even\n",
    "# if the new dtype is the same as the old dtype."
   ]
  },
  {
   "cell_type": "code",
   "execution_count": 13,
   "metadata": {},
   "outputs": [
    {
     "name": "stdout",
     "output_type": "stream",
     "text": [
      "[2 3 4]\n",
      "[ 4  9 16]\n",
      "[0 0 0]\n"
     ]
    }
   ],
   "source": [
    "# Arithamatic operations in ndarray\n",
    "print(my_array)\n",
    "print(my_array*my_array)\n",
    "print(my_array-my_array)\n"
   ]
  },
  {
   "cell_type": "code",
   "execution_count": 14,
   "metadata": {},
   "outputs": [
    {
     "data": {
      "text/plain": [
       "array([0.5       , 0.33333333, 0.25      ])"
      ]
     },
     "execution_count": 14,
     "metadata": {},
     "output_type": "execute_result"
    }
   ],
   "source": [
    "# Arithmetic operations with scalars propagate the scalar argument to each element in\n",
    "# the array:\n",
    "1/my_array"
   ]
  },
  {
   "cell_type": "code",
   "execution_count": 15,
   "metadata": {},
   "outputs": [
    {
     "name": "stdout",
     "output_type": "stream",
     "text": [
      "[False False False]\n",
      "[ True  True  True]\n",
      "[False False False]\n"
     ]
    }
   ],
   "source": [
    "# Comparisons between arrays of the same size yield boolean arrays\n",
    "print(my_array > my_array)\n",
    "print(my_array == my_array)\n",
    "print(my_array != my_array)"
   ]
  },
  {
   "cell_type": "code",
   "execution_count": 24,
   "metadata": {},
   "outputs": [
    {
     "name": "stdout",
     "output_type": "stream",
     "text": [
      "[0 1 2 3 4 5 6 7 8 9]\n",
      "5\n",
      "[5 6 7]\n",
      "[ 0  1  2  3  4 12 12 12  8  9]\n"
     ]
    }
   ],
   "source": [
    "# Basic indexing and slicing\n",
    "arr  = np.arange(10)\n",
    "print(arr)\n",
    "# accessing the specific element\n",
    "print(arr[5])\n",
    "# Printing the range\n",
    "print(arr[5:8])\n",
    "# Modify the content of the range.\n",
    "arr[5:8] = 12\n",
    "print(arr)\n"
   ]
  },
  {
   "cell_type": "code",
   "execution_count": 62,
   "metadata": {},
   "outputs": [
    {
     "name": "stdout",
     "output_type": "stream",
     "text": [
      "[12 12 12]\n"
     ]
    }
   ],
   "source": [
    "# Here arr[5:8] will return the reference or views to the actual memory\n",
    "# It will not copy the values.\n",
    "arr_slice  = arr[5:8]\n",
    "print(arr_slice)"
   ]
  },
  {
   "cell_type": "code",
   "execution_count": 67,
   "metadata": {},
   "outputs": [
    {
     "name": "stdout",
     "output_type": "stream",
     "text": [
      "[ 0  1  2  3  4  0  0 13  8  9]\n",
      "[0 1 2 3 4 0 0 0 8 9]\n"
     ]
    }
   ],
   "source": [
    "arr_slice[2] = 13\n",
    "print(arr) # Now the actual arr value is changed\n",
    "\n",
    "arr_slice[:] = 0 # change the all content of arr's [5:8] by modifying the arr_slice\n",
    "print(arr)"
   ]
  },
  {
   "cell_type": "code",
   "execution_count": 76,
   "metadata": {},
   "outputs": [
    {
     "name": "stdout",
     "output_type": "stream",
     "text": [
      "[0 0 0]\n",
      "[0 1 2 3 4 0 0 0 8 9]\n"
     ]
    }
   ],
   "source": [
    "# Avoid copy by reference as below\n",
    "arr_slice = arr[5:8].copy()\n",
    "print(arr_slice)\n",
    "arr_slice[:] = 7 # arr content is not changed\n",
    "print(arr)"
   ]
  },
  {
   "cell_type": "code",
   "execution_count": 110,
   "metadata": {},
   "outputs": [
    {
     "name": "stdout",
     "output_type": "stream",
     "text": [
      "[[1 2 3]\n",
      " [4 5 6]\n",
      " [7 8 9]\n",
      " [3 4 5]]\n",
      "[4 5 6]\n",
      "6\n",
      "6\n"
     ]
    }
   ],
   "source": [
    "# Accessing the two dimensional array\n",
    "\n",
    "arr2d = np.array([[1,2,3],[4,5,6,],[7,8,9],[3,4,5]])\n",
    "print(arr2d)\n",
    "\n",
    "# Accessing the elements\n",
    "print(arr2d[1])\n",
    "\n",
    "# If you want to access the second dimension\n",
    "print(arr2d[1,2])\n",
    "print(arr2d[1][2]) # Another way of accessing the 2 dimensional array"
   ]
  },
  {
   "cell_type": "code",
   "execution_count": 111,
   "metadata": {},
   "outputs": [
    {
     "name": "stdout",
     "output_type": "stream",
     "text": [
      "[[[ 1  2  3]\n",
      "  [ 4  5  6]]\n",
      "\n",
      " [[ 7  8  9]\n",
      "  [10 11 12]]]\n"
     ]
    }
   ],
   "source": [
    "# Accessing the three dimensional array (2*2*3)\n",
    "arr3d = np.array([[[1,2,3],[4,5,6]],[[7,8,9],[10,11,12]]])\n",
    "print(arr3d)\n"
   ]
  },
  {
   "cell_type": "code",
   "execution_count": 112,
   "metadata": {},
   "outputs": [
    {
     "name": "stdout",
     "output_type": "stream",
     "text": [
      "Returns the first dimension: [[1 2 3]\n",
      " [4 5 6]]\n",
      "Returns the second dimension: [4 5 6]\n",
      "Returns the third dimension: 6\n"
     ]
    }
   ],
   "source": [
    "# In multidimensional arrays, if you omit later indices, the returned object will be a\n",
    "# lower dimensional ndarray consisting of all the data along the higher dimensions.\n",
    "print(\"Returns the first dimension:\",arr3d[0])\n",
    "print(\"Returns the second dimension:\",arr3d[0][1])\n",
    "print(\"Returns the third dimension:\",arr3d[0][1][2])\n",
    "# this can be modified or copied as same above 2 dimensional array"
   ]
  },
  {
   "cell_type": "code",
   "execution_count": 123,
   "metadata": {},
   "outputs": [
    {
     "name": "stdout",
     "output_type": "stream",
     "text": [
      "Object `? 98th page` not found.\n",
      "[[1 2 3]\n",
      " [4 5 6]\n",
      " [7 8 9]\n",
      " [3 4 5]]\n",
      "[[1 2 3]\n",
      " [4 5 6]\n",
      " [7 8 9]]\n",
      "[[2 3]\n",
      " [5 6]]\n"
     ]
    }
   ],
   "source": [
    "??? 98th page\n",
    "# Indexing with slices\n",
    "print(arr2d)\n",
    "print(arr2d[:3])\n",
    "print(arr2d[:2,1:]) "
   ]
  },
  {
   "cell_type": "code",
   "execution_count": 140,
   "metadata": {},
   "outputs": [
    {
     "name": "stdout",
     "output_type": "stream",
     "text": [
      "['Bob' 'Joe' 'Will' 'Bob' 'Will' 'Joe' 'Joe']\n",
      "['cob' 'kor' 'cob' 'kor' 'cob' 'kor' 'cob']\n",
      "[[ 0.96783546  1.43051236 -0.89481255  0.1278125 ]\n",
      " [-1.50871643 -0.76335431 -1.80084291 -1.79534704]\n",
      " [-0.77705044  0.0223216  -1.76026452 -1.19670501]\n",
      " [-0.33448021 -0.27141215  0.25983616  0.33333175]\n",
      " [ 0.03579358 -1.21656279 -0.43416726 -0.61093715]\n",
      " [ 1.45493798 -0.14341239 -1.29895358 -0.51353199]\n",
      " [ 0.74300127 -1.22309811  0.3042289  -0.14021233]]\n",
      "[ True False False  True False False False]\n"
     ]
    },
    {
     "data": {
      "text/plain": [
       "array([[ 0.96783546,  1.43051236, -0.89481255,  0.1278125 ],\n",
       "       [-0.33448021, -0.27141215,  0.25983616,  0.33333175]])"
      ]
     },
     "execution_count": 140,
     "metadata": {},
     "output_type": "execute_result"
    }
   ],
   "source": [
    "# Boolean Indexing\n",
    "names = np.array(['Bob', 'Joe', 'Will', 'Bob', 'Will', 'Joe', 'Joe'])\n",
    "city = np.array(['cob','kor','cob','kor','cob','kor','cob' ])\n",
    "data = np.random.randn(7,4)\n",
    "print(names)\n",
    "print(city)\n",
    "print(data)\n",
    "print(names=='Bob')\n",
    "data[names=='Bob']"
   ]
  },
  {
   "cell_type": "markdown",
   "metadata": {},
   "source": [
    "# Fancy Indexing"
   ]
  },
  {
   "cell_type": "code",
   "execution_count": 163,
   "metadata": {},
   "outputs": [
    {
     "name": "stdout",
     "output_type": "stream",
     "text": [
      "[[ 0  1  2  3]\n",
      " [ 4  5  6  7]\n",
      " [ 8  9 10 11]\n",
      " [12 13 14 15]\n",
      " [16 17 18 19]\n",
      " [20 21 22 23]\n",
      " [24 25 26 27]\n",
      " [28 29 30 31]]\n",
      "Selecting the rows\n",
      " [[ 0  1  2  3]\n",
      " [ 4  5  6  7]\n",
      " [12 13 14 15]\n",
      " [24 25 26 27]]\n",
      "Selecting the 2 x 2 position\n",
      " [ 1  6 12 27]\n",
      "Selecting the rows and alter the column position\n",
      " [[ 4  7  5  6]\n",
      " [20 23 21 22]\n",
      " [28 31 29 30]\n",
      " [ 8 11  9 10]]\n",
      "Selecting the rows and alter the column position\n",
      " [[ 4  7  5  6]\n",
      " [20 23 21 22]]\n"
     ]
    }
   ],
   "source": [
    "# Fancy Indexing\n",
    "arr = np.arange(32).reshape((8, 4))\n",
    "print(arr)\n",
    "print(\"Selecting the rows\\n\",arr[[0,1,3,6]])\n",
    "print(\"Selecting the 2 x 2 position\\n\",arr[[0,1,3,6],[1,2,0,3]])\n",
    "print(\"Selecting the rows and alter the column position\\n\",arr[[1, 5, 7, 2]][:, [0, 3, 1, 2]])\n",
    "# Select the rows till 2nd\n",
    "print(\"Selecting the rows and alter the column position\\n\",arr[[1, 5, 7, 2]][:2, [0, 3, 1, 2]])"
   ]
  },
  {
   "cell_type": "markdown",
   "metadata": {},
   "source": [
    "# Transposing Arrays and Swapping Axes\n",
    "?? Needs to be checked for 3D Transport and swap"
   ]
  },
  {
   "cell_type": "code",
   "execution_count": 171,
   "metadata": {},
   "outputs": [
    {
     "name": "stdout",
     "output_type": "stream",
     "text": [
      "Object ` Needs to be checked for 3D Transport and swap` not found.\n",
      "[[[ 0  1  2  3]\n",
      "  [ 4  5  6  7]]\n",
      "\n",
      " [[ 8  9 10 11]\n",
      "  [12 13 14 15]]]\n",
      "Transposed Array\n",
      " [[[ 0  1  2  3]\n",
      "  [ 8  9 10 11]]\n",
      "\n",
      " [[ 4  5  6  7]\n",
      "  [12 13 14 15]]]\n",
      "Transposed Array\n",
      " [[[ 0  4]\n",
      "  [ 1  5]\n",
      "  [ 2  6]\n",
      "  [ 3  7]]\n",
      "\n",
      " [[ 8 12]\n",
      "  [ 9 13]\n",
      "  [10 14]\n",
      "  [11 15]]]\n"
     ]
    }
   ],
   "source": [
    "\n",
    "arr = np.arange(16).reshape(2,2,4)\n",
    "print(arr)\n",
    "print(\"Transposed Array\\n\",arr.transpose(1,0,2))\n",
    "print(\"Transposed Array\\n\",arr.transpose(0,2,1))"
   ]
  },
  {
   "cell_type": "markdown",
   "metadata": {},
   "source": [
    "# Universal functions\n"
   ]
  },
  {
   "cell_type": "code",
   "execution_count": 194,
   "metadata": {},
   "outputs": [
    {
     "name": "stdout",
     "output_type": "stream",
     "text": [
      "[       nan        nan 2.45256454 0.94923943 2.09129241 1.29636325\n",
      " 2.7571146 ]\n",
      "[-0.01664499 -1.11545609  6.01507281  0.90105549  4.37350393  1.68055767\n",
      "  7.60168093]\n"
     ]
    },
    {
     "name": "stderr",
     "output_type": "stream",
     "text": [
      "C:\\Users\\tnh5cob\\.conda\\envs\\Python_For_Data_Science\\lib\\site-packages\\ipykernel_launcher.py:3: RuntimeWarning: invalid value encountered in sqrt\n",
      "  This is separate from the ipykernel package so we can avoid doing imports until\n"
     ]
    }
   ],
   "source": [
    "arr = np.random.randn(7) * 5\n",
    "#print(np.sqrt(arr))\n",
    "np.sqrt(arr,arr1)\n",
    "print(arr1)\n",
    "print(arr)"
   ]
  },
  {
   "cell_type": "markdown",
   "metadata": {},
   "source": [
    "# Array-Oriented Programming with Arrays"
   ]
  },
  {
   "cell_type": "code",
   "execution_count": 221,
   "metadata": {},
   "outputs": [
    {
     "name": "stdout",
     "output_type": "stream",
     "text": [
      "[-50 -49 -48 -47 -46 -45 -44 -43 -42 -41 -40 -39 -38 -37 -36 -35 -34 -33\n",
      " -32 -31 -30 -29 -28 -27 -26 -25 -24 -23 -22 -21 -20 -19 -18 -17 -16 -15\n",
      " -14 -13 -12 -11 -10  -9  -8  -7  -6  -5  -4  -3  -2  -1   0   1   2   3\n",
      "   4   5   6   7   8   9  10  11  12  13  14  15  16  17  18  19  20  21\n",
      "  22  23  24  25  26  27  28  29  30  31  32  33  34  35  36  37  38  39\n",
      "  40  41  42  43  44  45  46  47  48  49]\n",
      "[-30 -28 -26 -24 -22 -20 -18 -16 -14 -12 -10  -8  -6  -4  -2   0   2   4\n",
      "   6   8  10  12  14  16  18  20  22  24  26  28]\n",
      "[[-50 -49 -48 ...  47  48  49]\n",
      " [-50 -49 -48 ...  47  48  49]\n",
      " [-50 -49 -48 ...  47  48  49]\n",
      " ...\n",
      " [-50 -49 -48 ...  47  48  49]\n",
      " [-50 -49 -48 ...  47  48  49]\n",
      " [-50 -49 -48 ...  47  48  49]]\n",
      "[[-30 -30 -30 ... -30 -30 -30]\n",
      " [-28 -28 -28 ... -28 -28 -28]\n",
      " [-26 -26 -26 ... -26 -26 -26]\n",
      " ...\n",
      " [ 24  24  24 ...  24  24  24]\n",
      " [ 26  26  26 ...  26  26  26]\n",
      " [ 28  28  28 ...  28  28  28]]\n"
     ]
    },
    {
     "data": {
      "text/plain": [
       "Text(0.5, 1.0, 'Image plot of $\\\\sqrt{x^2 + y^2}$ for a grid of values')"
      ]
     },
     "execution_count": 221,
     "metadata": {},
     "output_type": "execute_result"
    },
    {
     "data": {
      "image/png": "[encoded data removed]",
      "text/plain": [
       "<Figure size 432x288 with 2 Axes>"
      ]
     },
     "metadata": {
      "needs_background": "light"
     },
     "output_type": "display_data"
    }
   ],
   "source": [
    "import matplotlib.pyplot as plt\n",
    "points1= np.arange(-50,50,1)\n",
    "points2= np.arange(-30,30,2)\n",
    "print(points1)\n",
    "print(points2)\n",
    "xs,ys = np.meshgrid(points1,points2)\n",
    "print(xs)\n",
    "print(ys)\n",
    "z=np.sqrt(xs**2 + ys**2)\n",
    "# plotting the result image\n",
    "plt.imshow(z, cmap=plt.cm.gray);\n",
    "plt.colorbar()\n",
    "plt.title(\"Image plot of $\\sqrt{x^2 + y^2}$ for a grid of values\")\n",
    "\n"
   ]
  },
  {
   "cell_type": "code",
   "execution_count": 227,
   "metadata": {},
   "outputs": [
    {
     "name": "stdout",
     "output_type": "stream",
     "text": [
      "((1.1, 2.1, True), (1.2, 2.2, False), (1.3, 2.3, True), (1.4, 2.4, True), (1.5, 2.5, False))\n"
     ]
    }
   ],
   "source": [
    "xarr = np.array([1.1, 1.2, 1.3, 1.4, 1.5])\n",
    "yarr = np.array([2.1, 2.2, 2.3, 2.4, 2.5])\n",
    "cond = np.array([True, False, True, True, False])\n",
    "print(tuple(zip(xarr,yarr,cond)))"
   ]
  },
  {
   "cell_type": "markdown",
   "metadata": {},
   "source": [
    "# Expressing Conditional Logic as Array Operations"
   ]
  },
  {
   "cell_type": "code",
   "execution_count": 252,
   "metadata": {},
   "outputs": [
    {
     "name": "stdout",
     "output_type": "stream",
     "text": [
      "[ 1  8  3  4 11 12]\n",
      "[ 1  8  3 10  5 12]\n"
     ]
    }
   ],
   "source": [
    "xarr= np.array([1,2,3,4,5,6])\n",
    "yarr= np.array([7,8,9,10,11,12])\n",
    "cond=np.array([True,False,True,True,False,False])\n",
    "\n",
    "result = np.where(cond,xarr,yarr)\n",
    "print(result)\n",
    "\n",
    "result  = np.where(xarr%2,xarr,yarr)\n",
    "print(result)"
   ]
  },
  {
   "cell_type": "markdown",
   "metadata": {},
   "source": [
    "# Mathematical and Statistical Methods"
   ]
  },
  {
   "cell_type": "code",
   "execution_count": 253,
   "metadata": {},
   "outputs": [
    {
     "name": "stdout",
     "output_type": "stream",
     "text": [
      "Sum 25\n",
      "Mean 3.125\n"
     ]
    }
   ],
   "source": [
    "xarr= np.array([1,2,3,4,5,6,1,3])\n",
    "print(\"Sum\",np.sum(xarr))\n",
    "print(\"Mean\",np.mean(xarr))"
   ]
  },
  {
   "cell_type": "markdown",
   "metadata": {},
   "source": [
    "# Sorting"
   ]
  },
  {
   "cell_type": "code",
   "execution_count": 254,
   "metadata": {},
   "outputs": [
    {
     "name": "stdout",
     "output_type": "stream",
     "text": [
      "[1 1 2 3 3 4 5 6]\n"
     ]
    }
   ],
   "source": [
    "xarr.sort()\n",
    "print(xarr)"
   ]
  },
  {
   "cell_type": "code",
   "execution_count": null,
   "metadata": {},
   "outputs": [],
   "source": []
  },
  {
   "cell_type": "code",
   "execution_count": null,
   "metadata": {},
   "outputs": [],
   "source": []
  },
  {
   "cell_type": "code",
   "execution_count": null,
   "metadata": {},
   "outputs": [],
   "source": []
  },
  {
   "cell_type": "code",
   "execution_count": null,
   "metadata": {},
   "outputs": [],
   "source": []
  },
  {
   "cell_type": "code",
   "execution_count": null,
   "metadata": {},
   "outputs": [],
   "source": []
  },
  {
   "cell_type": "code",
   "execution_count": null,
   "metadata": {},
   "outputs": [],
   "source": []
  },
  {
   "cell_type": "code",
   "execution_count": null,
   "metadata": {},
   "outputs": [],
   "source": []
  },
  {
   "cell_type": "code",
   "execution_count": null,
   "metadata": {},
   "outputs": [],
   "source": []
  },
  {
   "cell_type": "code",
   "execution_count": null,
   "metadata": {},
   "outputs": [],
   "source": []
  },
  {
   "cell_type": "code",
   "execution_count": null,
   "metadata": {},
   "outputs": [],
   "source": []
  },
  {
   "cell_type": "code",
   "execution_count": null,
   "metadata": {},
   "outputs": [],
   "source": []
  },
  {
   "cell_type": "code",
   "execution_count": null,
   "metadata": {},
   "outputs": [],
   "source": []
  },
  {
   "cell_type": "code",
   "execution_count": null,
   "metadata": {},
   "outputs": [],
   "source": []
  },
  {
   "cell_type": "code",
   "execution_count": null,
   "metadata": {},
   "outputs": [],
   "source": []
  },
  {
   "cell_type": "code",
   "execution_count": null,
   "metadata": {},
   "outputs": [],
   "source": []
  },
  {
   "cell_type": "code",
   "execution_count": null,
   "metadata": {},
   "outputs": [],
   "source": []
  },
  {
   "cell_type": "code",
   "execution_count": null,
   "metadata": {},
   "outputs": [],
   "source": []
  },
  {
   "cell_type": "code",
   "execution_count": null,
   "metadata": {},
   "outputs": [],
   "source": []
  },
  {
   "cell_type": "code",
   "execution_count": null,
   "metadata": {},
   "outputs": [],
   "source": []
  },
  {
   "cell_type": "code",
   "execution_count": null,
   "metadata": {},
   "outputs": [],
   "source": []
  },
  {
   "cell_type": "code",
   "execution_count": null,
   "metadata": {},
   "outputs": [],
   "source": []
  },
  {
   "cell_type": "code",
   "execution_count": null,
   "metadata": {},
   "outputs": [],
   "source": []
  },
  {
   "cell_type": "code",
   "execution_count": null,
   "metadata": {},
   "outputs": [],
   "source": []
  },
  {
   "cell_type": "code",
   "execution_count": null,
   "metadata": {},
   "outputs": [],
   "source": []
  },
  {
   "cell_type": "code",
   "execution_count": null,
   "metadata": {},
   "outputs": [],
   "source": []
  },
  {
   "cell_type": "code",
   "execution_count": null,
   "metadata": {},
   "outputs": [],
   "source": []
  },
  {
   "cell_type": "code",
   "execution_count": null,
   "metadata": {},
   "outputs": [],
   "source": []
  },
  {
   "cell_type": "code",
   "execution_count": null,
   "metadata": {},
   "outputs": [],
   "source": []
  },
  {
   "cell_type": "code",
   "execution_count": null,
   "metadata": {},
   "outputs": [],
   "source": []
  },
  {
   "cell_type": "code",
   "execution_count": null,
   "metadata": {},
   "outputs": [],
   "source": []
  },
  {
   "cell_type": "code",
   "execution_count": null,
   "metadata": {},
   "outputs": [],
   "source": []
  },
  {
   "cell_type": "code",
   "execution_count": null,
   "metadata": {},
   "outputs": [],
   "source": []
  },
  {
   "cell_type": "code",
   "execution_count": null,
   "metadata": {},
   "outputs": [],
   "source": []
  },
  {
   "cell_type": "code",
   "execution_count": null,
   "metadata": {},
   "outputs": [],
   "source": []
  },
  {
   "cell_type": "code",
   "execution_count": null,
   "metadata": {},
   "outputs": [],
   "source": []
  },
  {
   "cell_type": "code",
   "execution_count": null,
   "metadata": {},
   "outputs": [],
   "source": []
  },
  {
   "cell_type": "code",
   "execution_count": null,
   "metadata": {},
   "outputs": [],
   "source": []
  },
  {
   "cell_type": "code",
   "execution_count": null,
   "metadata": {},
   "outputs": [],
   "source": []
  },
  {
   "cell_type": "code",
   "execution_count": null,
   "metadata": {},
   "outputs": [],
   "source": []
  },
  {
   "cell_type": "code",
   "execution_count": null,
   "metadata": {},
   "outputs": [],
   "source": []
  }
 ],
 "metadata": {
  "kernelspec": {
   "display_name": "Python [conda env:.conda-Python_For_Data_Science]",
   "language": "python",
   "name": "conda-env-.conda-Python_For_Data_Science-py"
  },
  "language_info": {
   "codemirror_mode": {
    "name": "ipython",
    "version": 3
   },
   "file_extension": ".py",
   "mimetype": "text/x-python",
   "name": "python",
   "nbconvert_exporter": "python",
   "pygments_lexer": "ipython3",
   "version": "3.7.6"
  }
 },
 "nbformat": 4,
 "nbformat_minor": 2
}
