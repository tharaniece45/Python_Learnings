{
 "cells": [
  {
   "cell_type": "markdown",
   "metadata": {},
   "source": [
    "# Learning Pandas"
   ]
  },
  {
   "cell_type": "code",
   "execution_count": 16,
   "metadata": {},
   "outputs": [],
   "source": [
    "import pandas as pd\n",
    "from pandas import Series, DataFrame\n",
    "\n",
    "import numpy as np"
   ]
  },
  {
   "cell_type": "code",
   "execution_count": 17,
   "metadata": {},
   "outputs": [
    {
     "name": "stdout",
     "output_type": "stream",
     "text": [
      "0    45\n",
      "1    -3\n",
      "2     5\n",
      "3     1\n",
      "4     3\n",
      "dtype: int64\n",
      "RangeIndex(start=0, stop=5, step=1)\n",
      "[45 -3  5  1  3]\n"
     ]
    }
   ],
   "source": [
    "# Pandas Series\n",
    "obj=pd.Series([45,-3,5,1,3])\n",
    "print(obj)\n",
    "print(obj.index)\n",
    "print(obj.values)"
   ]
  },
  {
   "cell_type": "code",
   "execution_count": 18,
   "metadata": {},
   "outputs": [
    {
     "name": "stdout",
     "output_type": "stream",
     "text": [
      "Tharani    30\n",
      "Balaji     29\n",
      "Kamal      18\n",
      "Gowtham     2\n",
      "Gowtham    23\n",
      "dtype: int64\n",
      "Index(['Tharani', 'Balaji', 'Kamal', 'Gowtham', 'Gowtham'], dtype='object')\n",
      "[30 29 18  2 23]\n",
      "Single Indexing\n",
      " Gowtham     2\n",
      "Gowtham    23\n",
      "dtype: int64\n",
      "Multi Indexing\n",
      " Gowtham     2\n",
      "Gowtham    23\n",
      "Tharani    30\n",
      "dtype: int64\n"
     ]
    }
   ],
   "source": [
    "# Pandas Series overriding index\n",
    "obj=pd.Series([30,29,18,2,23], index=['Tharani','Balaji','Kamal','Gowtham',\"Gowtham\"])  \n",
    "# In \"Gowtham\" \"\" will not cause any issue\n",
    "print(obj)\n",
    "print(obj.index)\n",
    "print(obj.values)\n",
    "# Printing a single index\n",
    "print(\"Single Indexing\\n\",obj['Gowtham'])\n",
    "print(\"Multi Indexing\\n\",obj[['Gowtham','Tharani']])"
   ]
  },
  {
   "cell_type": "code",
   "execution_count": 19,
   "metadata": {},
   "outputs": [
    {
     "name": "stdout",
     "output_type": "stream",
     "text": [
      "Passing condition for Index\n",
      " Tharani    30\n",
      "Balaji     29\n",
      "Gowtham    23\n",
      "dtype: int64\n",
      "Multiply each value with\n",
      " Tharani    60\n",
      "Balaji     58\n",
      "Kamal      36\n",
      "Gowtham     4\n",
      "Gowtham    46\n",
      "dtype: int64\n",
      "Taking exponential\n",
      " Tharani    1.068647e+13\n",
      "Balaji     3.931334e+12\n",
      "Kamal      6.565997e+07\n",
      "Gowtham    7.389056e+00\n",
      "Gowtham    9.744803e+09\n",
      "dtype: float64\n"
     ]
    }
   ],
   "source": [
    "# Math operation in pandas\n",
    "print(\"Passing condition for Index\\n\",obj[obj>20])\n",
    "print(\"Multiply each value with\\n\",obj*2)\n",
    "print(\"Taking exponential\\n\",np.exp(obj)) #Index-value link is preserved even passed to numpy exponential function"
   ]
  },
  {
   "cell_type": "code",
   "execution_count": 20,
   "metadata": {},
   "outputs": [
    {
     "name": "stdout",
     "output_type": "stream",
     "text": [
      "Tharani    30\n",
      "Kamal      28\n",
      "Balaji     14\n",
      "Gowthi     23\n",
      "dtype: int64\n"
     ]
    }
   ],
   "source": [
    "# Creating a pandas series using Python dict\n",
    "dictdata = {'Tharani':30,'Kamal':28,'Balaji':14,'Gowthi':2,'Gowthi':23 } # Duplicate is not allowed in Python Dict\n",
    "pdseries = pd.Series(dictdata)\n",
    "print(pdseries)\n"
   ]
  },
  {
   "cell_type": "code",
   "execution_count": 21,
   "metadata": {},
   "outputs": [
    {
     "name": "stdout",
     "output_type": "stream",
     "text": [
      "somename     NaN\n",
      "Balaji      14.0\n",
      "Gowthi      23.0\n",
      "Kamal       28.0\n",
      "Tharani     30.0\n",
      "dtype: float64\n",
      "somename     True\n",
      "Balaji      False\n",
      "Gowthi      False\n",
      "Kamal       False\n",
      "Tharani     False\n",
      "dtype: bool\n"
     ]
    }
   ],
   "source": [
    "# Changing the order of the index in Series\n",
    "statesorder=['somename','Balaji','Gowthi','Kamal','Tharani'] \n",
    "dictdata = {'Tharani':30,'Kamal':28,'Balaji':14,'Gowthi':2,'Gowthi':23 } # Duplicate is not allowed in Python Dict\n",
    "pdseries = pd.Series(dictdata, index=statesorder)\n",
    "print(pdseries)\n",
    "# Here somename is not in the dictdata, So it is coming as 'NaN'(Not a Number)\n",
    "print(pd.isnull(pdseries)) # It is giving True for the somename"
   ]
  },
  {
   "cell_type": "markdown",
   "metadata": {},
   "source": [
    "# DataFrame"
   ]
  },
  {
   "cell_type": "code",
   "execution_count": 22,
   "metadata": {},
   "outputs": [
    {
     "data": {
      "text/html": [
       "<div>\n",
       "<style scoped>\n",
       "    .dataframe tbody tr th:only-of-type {\n",
       "        vertical-align: middle;\n",
       "    }\n",
       "\n",
       "    .dataframe tbody tr th {\n",
       "        vertical-align: top;\n",
       "    }\n",
       "\n",
       "    .dataframe thead th {\n",
       "        text-align: right;\n",
       "    }\n",
       "</style>\n",
       "<table border=\"1\" class=\"dataframe\">\n",
       "  <thead>\n",
       "    <tr style=\"text-align: right;\">\n",
       "      <th></th>\n",
       "      <th>state</th>\n",
       "      <th>Population</th>\n",
       "      <th>Year</th>\n",
       "    </tr>\n",
       "  </thead>\n",
       "  <tbody>\n",
       "    <tr>\n",
       "      <th>0</th>\n",
       "      <td>Tamilnadu</td>\n",
       "      <td>1.5</td>\n",
       "      <td>2000</td>\n",
       "    </tr>\n",
       "    <tr>\n",
       "      <th>1</th>\n",
       "      <td>Kerala</td>\n",
       "      <td>2.3</td>\n",
       "      <td>2002</td>\n",
       "    </tr>\n",
       "    <tr>\n",
       "      <th>2</th>\n",
       "      <td>Andra</td>\n",
       "      <td>4.0</td>\n",
       "      <td>2003</td>\n",
       "    </tr>\n",
       "    <tr>\n",
       "      <th>3</th>\n",
       "      <td>Delhi</td>\n",
       "      <td>7.5</td>\n",
       "      <td>2020</td>\n",
       "    </tr>\n",
       "    <tr>\n",
       "      <th>4</th>\n",
       "      <td>Orisha</td>\n",
       "      <td>34.0</td>\n",
       "      <td>2010</td>\n",
       "    </tr>\n",
       "  </tbody>\n",
       "</table>\n",
       "</div>"
      ],
      "text/plain": [
       "       state  Population  Year\n",
       "0  Tamilnadu         1.5  2000\n",
       "1     Kerala         2.3  2002\n",
       "2      Andra         4.0  2003\n",
       "3      Delhi         7.5  2020\n",
       "4     Orisha        34.0  2010"
      ]
     },
     "execution_count": 22,
     "metadata": {},
     "output_type": "execute_result"
    }
   ],
   "source": [
    "data = {'state':['Tamilnadu', 'Kerala', 'Andra','Delhi','Orisha'],\n",
    "        'Population':[1.5,2.3,4,7.5,34],\n",
    "        'Year':[2000,2002,2003,2020,2010]}\n",
    "frame = pd.DataFrame(data)\n",
    "frame\n",
    "#  For large table frame.head will give you a first five entries"
   ]
  },
  {
   "cell_type": "code",
   "execution_count": 23,
   "metadata": {},
   "outputs": [
    {
     "data": {
      "text/html": [
       "<div>\n",
       "<style scoped>\n",
       "    .dataframe tbody tr th:only-of-type {\n",
       "        vertical-align: middle;\n",
       "    }\n",
       "\n",
       "    .dataframe tbody tr th {\n",
       "        vertical-align: top;\n",
       "    }\n",
       "\n",
       "    .dataframe thead th {\n",
       "        text-align: right;\n",
       "    }\n",
       "</style>\n",
       "<table border=\"1\" class=\"dataframe\">\n",
       "  <thead>\n",
       "    <tr style=\"text-align: right;\">\n",
       "      <th></th>\n",
       "      <th>Year</th>\n",
       "      <th>Population</th>\n",
       "      <th>state</th>\n",
       "    </tr>\n",
       "  </thead>\n",
       "  <tbody>\n",
       "    <tr>\n",
       "      <th>0</th>\n",
       "      <td>2000</td>\n",
       "      <td>1.5</td>\n",
       "      <td>Tamilnadu</td>\n",
       "    </tr>\n",
       "    <tr>\n",
       "      <th>1</th>\n",
       "      <td>2002</td>\n",
       "      <td>2.3</td>\n",
       "      <td>Kerala</td>\n",
       "    </tr>\n",
       "    <tr>\n",
       "      <th>2</th>\n",
       "      <td>2003</td>\n",
       "      <td>4.0</td>\n",
       "      <td>Andra</td>\n",
       "    </tr>\n",
       "    <tr>\n",
       "      <th>3</th>\n",
       "      <td>2020</td>\n",
       "      <td>7.5</td>\n",
       "      <td>Delhi</td>\n",
       "    </tr>\n",
       "    <tr>\n",
       "      <th>4</th>\n",
       "      <td>2010</td>\n",
       "      <td>34.0</td>\n",
       "      <td>Orisha</td>\n",
       "    </tr>\n",
       "  </tbody>\n",
       "</table>\n",
       "</div>"
      ],
      "text/plain": [
       "   Year  Population      state\n",
       "0  2000         1.5  Tamilnadu\n",
       "1  2002         2.3     Kerala\n",
       "2  2003         4.0      Andra\n",
       "3  2020         7.5      Delhi\n",
       "4  2010        34.0     Orisha"
      ]
     },
     "execution_count": 23,
     "metadata": {},
     "output_type": "execute_result"
    }
   ],
   "source": [
    "# If you specify a sequence of columns, the DataFrame’s columns will be arranged in\n",
    "# that order\n",
    "frame = pd.DataFrame(data,columns=['Year','Population','state'])\n",
    "frame"
   ]
  },
  {
   "cell_type": "code",
   "execution_count": 24,
   "metadata": {},
   "outputs": [
    {
     "data": {
      "text/html": [
       "<div>\n",
       "<style scoped>\n",
       "    .dataframe tbody tr th:only-of-type {\n",
       "        vertical-align: middle;\n",
       "    }\n",
       "\n",
       "    .dataframe tbody tr th {\n",
       "        vertical-align: top;\n",
       "    }\n",
       "\n",
       "    .dataframe thead th {\n",
       "        text-align: right;\n",
       "    }\n",
       "</style>\n",
       "<table border=\"1\" class=\"dataframe\">\n",
       "  <thead>\n",
       "    <tr style=\"text-align: right;\">\n",
       "      <th></th>\n",
       "      <th>Year</th>\n",
       "      <th>Population</th>\n",
       "      <th>state</th>\n",
       "      <th>Income</th>\n",
       "    </tr>\n",
       "  </thead>\n",
       "  <tbody>\n",
       "    <tr>\n",
       "      <th>0</th>\n",
       "      <td>2000</td>\n",
       "      <td>1.5</td>\n",
       "      <td>Tamilnadu</td>\n",
       "      <td>NaN</td>\n",
       "    </tr>\n",
       "    <tr>\n",
       "      <th>1</th>\n",
       "      <td>2002</td>\n",
       "      <td>2.3</td>\n",
       "      <td>Kerala</td>\n",
       "      <td>NaN</td>\n",
       "    </tr>\n",
       "    <tr>\n",
       "      <th>2</th>\n",
       "      <td>2003</td>\n",
       "      <td>4.0</td>\n",
       "      <td>Andra</td>\n",
       "      <td>NaN</td>\n",
       "    </tr>\n",
       "    <tr>\n",
       "      <th>3</th>\n",
       "      <td>2020</td>\n",
       "      <td>7.5</td>\n",
       "      <td>Delhi</td>\n",
       "      <td>NaN</td>\n",
       "    </tr>\n",
       "    <tr>\n",
       "      <th>4</th>\n",
       "      <td>2010</td>\n",
       "      <td>34.0</td>\n",
       "      <td>Orisha</td>\n",
       "      <td>NaN</td>\n",
       "    </tr>\n",
       "  </tbody>\n",
       "</table>\n",
       "</div>"
      ],
      "text/plain": [
       "   Year  Population      state Income\n",
       "0  2000         1.5  Tamilnadu    NaN\n",
       "1  2002         2.3     Kerala    NaN\n",
       "2  2003         4.0      Andra    NaN\n",
       "3  2020         7.5      Delhi    NaN\n",
       "4  2010        34.0     Orisha    NaN"
      ]
     },
     "execution_count": 24,
     "metadata": {},
     "output_type": "execute_result"
    }
   ],
   "source": [
    "# Passing extra non containing values will appear as missing values\n",
    "frame = pd.DataFrame(data,columns=['Year','Population','state','Income'])\n",
    "frame # Here income displayed as a Missing values"
   ]
  },
  {
   "cell_type": "code",
   "execution_count": 25,
   "metadata": {},
   "outputs": [
    {
     "name": "stdout",
     "output_type": "stream",
     "text": [
      "0    NaN\n",
      "1    NaN\n",
      "2    NaN\n",
      "3    NaN\n",
      "4    NaN\n",
      "Name: Income, dtype: object\n",
      "0     1.5\n",
      "1     2.3\n",
      "2     4.0\n",
      "3     7.5\n",
      "4    34.0\n",
      "Name: Population, dtype: float64\n"
     ]
    }
   ],
   "source": [
    "# Selecting a coloum in the DataFrame\n",
    "print(frame.Income)\n",
    "print(frame['Population'])"
   ]
  },
  {
   "cell_type": "code",
   "execution_count": 26,
   "metadata": {},
   "outputs": [
    {
     "name": "stdout",
     "output_type": "stream",
     "text": [
      "Year           2003\n",
      "Population        4\n",
      "state         Andra\n",
      "Income          NaN\n",
      "Name: 2, dtype: object\n",
      "   Year  Population      state  Income\n",
      "0  2000         1.5  Tamilnadu      20\n",
      "1  2002         2.3     Kerala      20\n",
      "2  2003         4.0      Andra      20\n",
      "3  2020         7.5      Delhi      20\n",
      "4  2010        34.0     Orisha      20\n",
      "\n",
      "Changing the value for Entire coloum\n",
      "    Year  Population      state  Income\n",
      "0  2000         1.5  Tamilnadu     2.0\n",
      "1  2002         2.3     Kerala    45.0\n",
      "2  2003         4.0      Andra    67.0\n",
      "3  2020         7.5      Delhi    32.0\n",
      "4  2010        34.0     Orisha     2.0\n",
      "\n",
      "Changing the value for Entire coloum\n",
      "    Year  Population      state  Income\n",
      "0  2000         1.5  Tamilnadu       0\n",
      "1  2002         2.3     Kerala       1\n",
      "2  2003         4.0      Andra       2\n",
      "3  2020         7.5      Delhi       3\n",
      "4  2010        34.0     Orisha       4\n"
     ]
    }
   ],
   "source": [
    "print(frame.loc[2]) #Print based on Location\n",
    "frame['Income'] = 20 # assigning the single value to the complete colume.\n",
    "print(frame)\n",
    "frame['Income'] = [2,45,67,32.0,2]\n",
    "print(\"\\nChanging the value for Entire coloum\\n\",frame)\n",
    "frame['Income'] = np.arange(5) # alternativily with nparray\n",
    "print(\"\\nChanging the value for Entire coloum\\n\",frame)"
   ]
  },
  {
   "cell_type": "code",
   "execution_count": 27,
   "metadata": {},
   "outputs": [
    {
     "name": "stdout",
     "output_type": "stream",
     "text": [
      "   Year  Population      state  Income\n",
      "0  2000         1.5  Tamilnadu    12.0\n",
      "1  2002         2.3     Kerala     NaN\n",
      "2  2003         4.0      Andra    34.0\n",
      "3  2020         7.5      Delhi    54.0\n",
      "4  2010        34.0     Orisha     NaN\n",
      "   Year  Population      state  Income  Hello\n",
      "0  2000         1.5  Tamilnadu    12.0   12.0\n",
      "1  2002         2.3     Kerala     NaN    NaN\n",
      "2  2003         4.0      Andra    34.0   34.0\n",
      "3  2020         7.5      Delhi    54.0   54.0\n",
      "4  2010        34.0     Orisha     NaN    NaN\n",
      "   Year  Population      state  Income  Hello  MyFlag\n",
      "0  2000         1.5  Tamilnadu    12.0   12.0   False\n",
      "1  2002         2.3     Kerala     NaN    NaN    True\n",
      "2  2003         4.0      Andra    34.0   34.0   False\n",
      "3  2020         7.5      Delhi    54.0   54.0   False\n",
      "4  2010        34.0     Orisha     NaN    NaN   False\n"
     ]
    }
   ],
   "source": [
    "# Specifying the index will only update the values specified index\n",
    "# Other positions are made as Nan(Not a Number)\n",
    "val  = pd.Series([12,34,54],index=[0,2,3])\n",
    "frame['Income'] = val\n",
    "print(frame)\n",
    "# Assigning a column that doesn’t exist will create a new column.\n",
    "# Here 'Hello' colume name is newly inserted in the table if not exist\n",
    "frame['Hello'] = val\n",
    "print(frame)\n",
    "# Another example\n",
    "frame['MyFlag'] = frame.state == 'Kerala'\n",
    "print(frame)"
   ]
  },
  {
   "cell_type": "code",
   "execution_count": 28,
   "metadata": {},
   "outputs": [
    {
     "name": "stdout",
     "output_type": "stream",
     "text": [
      "   Year  Population      state  Hello  MyFlag\n",
      "0  2000         1.5  Tamilnadu   12.0   False\n",
      "1  2002         2.3     Kerala    NaN    True\n",
      "2  2003         4.0      Andra   34.0   False\n",
      "3  2020         7.5      Delhi   54.0   False\n",
      "4  2010        34.0     Orisha    NaN   False\n"
     ]
    }
   ],
   "source": [
    "# Deleting the existing coloum\n",
    "del frame['Income']\n",
    "print(frame)\n",
    "# del frame.state --> This wont work"
   ]
  },
  {
   "cell_type": "code",
   "execution_count": 29,
   "metadata": {},
   "outputs": [
    {
     "name": "stdout",
     "output_type": "stream",
     "text": [
      "            Tamilnadu  Karnataka\n",
      "coimbatore      762.0        NaN\n",
      "Kangeyam        876.5        NaN\n",
      "Housur          334.0      232.0\n",
      "Madiwala          NaN      324.0\n",
      "Ec                NaN      933.0\n",
      "Silkboard         NaN      342.0\n",
      "\n",
      "Transposing the frame\n",
      "            coimbatore  Kangeyam  Housur  Madiwala     Ec  Silkboard\n",
      "Tamilnadu       762.0     876.5   334.0       NaN    NaN        NaN\n",
      "Karnataka         NaN       NaN   232.0     324.0  933.0      342.0\n",
      "\n",
      " With given index\n",
      "             Tamilnadu  Karnataka\n",
      "coimbatore      762.0        NaN\n",
      "Kanheyam          NaN        NaN\n",
      "Ec                NaN      933.0\n",
      "Silkboard         NaN      342.0\n"
     ]
    },
    {
     "data": {
      "text/html": [
       "<div>\n",
       "<style scoped>\n",
       "    .dataframe tbody tr th:only-of-type {\n",
       "        vertical-align: middle;\n",
       "    }\n",
       "\n",
       "    .dataframe tbody tr th {\n",
       "        vertical-align: top;\n",
       "    }\n",
       "\n",
       "    .dataframe thead th {\n",
       "        text-align: right;\n",
       "    }\n",
       "</style>\n",
       "<table border=\"1\" class=\"dataframe\">\n",
       "  <thead>\n",
       "    <tr style=\"text-align: right;\">\n",
       "      <th></th>\n",
       "      <th>Tamilnadu</th>\n",
       "      <th>Karnataka</th>\n",
       "    </tr>\n",
       "  </thead>\n",
       "  <tbody>\n",
       "    <tr>\n",
       "      <th>Ec</th>\n",
       "      <td>NaN</td>\n",
       "      <td>933.0</td>\n",
       "    </tr>\n",
       "    <tr>\n",
       "      <th>Kanheyam</th>\n",
       "      <td>NaN</td>\n",
       "      <td>NaN</td>\n",
       "    </tr>\n",
       "    <tr>\n",
       "      <th>Silkboard</th>\n",
       "      <td>NaN</td>\n",
       "      <td>342.0</td>\n",
       "    </tr>\n",
       "    <tr>\n",
       "      <th>coimbatore</th>\n",
       "      <td>762.0</td>\n",
       "      <td>NaN</td>\n",
       "    </tr>\n",
       "  </tbody>\n",
       "</table>\n",
       "</div>"
      ],
      "text/plain": [
       "            Tamilnadu  Karnataka\n",
       "Ec                NaN      933.0\n",
       "Kanheyam          NaN        NaN\n",
       "Silkboard         NaN      342.0\n",
       "coimbatore      762.0        NaN"
      ]
     },
     "execution_count": 29,
     "metadata": {},
     "output_type": "execute_result"
    }
   ],
   "source": [
    "# Nested dict of dict in Pandas DataFrame\n",
    "dictdata = {'Tamilnadu':{'coimbatore':762,'Kangeyam':876.5,'Housur':334},\n",
    "            'Karnataka':{'Housur':232,'Madiwala':324,'Ec':933,'Silkboard':342}}\n",
    "# Here all place names are taken as Index in nested dict\n",
    "frame = pd.DataFrame(dictdata)\n",
    "print(frame)\n",
    "# Even you can tranpose the pd.DataFrame similar to ndarray\n",
    "print(\"\\nTransposing the frame\\n\",frame.T)\n",
    "# If explicit index value is specified then it will inserted accordingly\n",
    "frame = pd.DataFrame(dictdata, index=['coimbatore', 'Kanheyam','Ec','Silkboard'])\n",
    "print(\"\\n With given index\\n\",frame) # Here only specified index values are inserted\n",
    "\n",
    "dictdata = {'Tamilnadu':frame['Tamilnadu'][:-1],\n",
    "             'Karnataka':frame['Karnataka'][:]}\n",
    "frame = pd.DataFrame(dictdata)\n",
    "frame"
   ]
  },
  {
   "cell_type": "code",
   "execution_count": 30,
   "metadata": {},
   "outputs": [
    {
     "data": {
      "text/html": [
       "<div>\n",
       "<style scoped>\n",
       "    .dataframe tbody tr th:only-of-type {\n",
       "        vertical-align: middle;\n",
       "    }\n",
       "\n",
       "    .dataframe tbody tr th {\n",
       "        vertical-align: top;\n",
       "    }\n",
       "\n",
       "    .dataframe thead th {\n",
       "        text-align: right;\n",
       "    }\n",
       "</style>\n",
       "<table border=\"1\" class=\"dataframe\">\n",
       "  <thead>\n",
       "    <tr style=\"text-align: right;\">\n",
       "      <th>State</th>\n",
       "      <th>Tamilnadu</th>\n",
       "      <th>Karnataka</th>\n",
       "    </tr>\n",
       "    <tr>\n",
       "      <th>District</th>\n",
       "      <th></th>\n",
       "      <th></th>\n",
       "    </tr>\n",
       "  </thead>\n",
       "  <tbody>\n",
       "    <tr>\n",
       "      <th>Ec</th>\n",
       "      <td>NaN</td>\n",
       "      <td>933.0</td>\n",
       "    </tr>\n",
       "    <tr>\n",
       "      <th>Kanheyam</th>\n",
       "      <td>NaN</td>\n",
       "      <td>NaN</td>\n",
       "    </tr>\n",
       "    <tr>\n",
       "      <th>Silkboard</th>\n",
       "      <td>NaN</td>\n",
       "      <td>342.0</td>\n",
       "    </tr>\n",
       "    <tr>\n",
       "      <th>coimbatore</th>\n",
       "      <td>762.0</td>\n",
       "      <td>NaN</td>\n",
       "    </tr>\n",
       "  </tbody>\n",
       "</table>\n",
       "</div>"
      ],
      "text/plain": [
       "State       Tamilnadu  Karnataka\n",
       "District                        \n",
       "Ec                NaN      933.0\n",
       "Kanheyam          NaN        NaN\n",
       "Silkboard         NaN      342.0\n",
       "coimbatore      762.0        NaN"
      ]
     },
     "execution_count": 30,
     "metadata": {},
     "output_type": "execute_result"
    }
   ],
   "source": [
    "# Setting name attribute for the 'index' and 'coloums'\n",
    "frame.index.name='District'\n",
    "frame.columns.name='State'\n",
    "frame"
   ]
  },
  {
   "cell_type": "code",
   "execution_count": 31,
   "metadata": {},
   "outputs": [
    {
     "data": {
      "text/plain": [
       "array([[ nan, 933.],\n",
       "       [ nan,  nan],\n",
       "       [ nan, 342.],\n",
       "       [762.,  nan]])"
      ]
     },
     "execution_count": 31,
     "metadata": {},
     "output_type": "execute_result"
    }
   ],
   "source": [
    "# Frame.values will return the values in Two dimentional array\n",
    "frame.values"
   ]
  },
  {
   "cell_type": "markdown",
   "metadata": {},
   "source": [
    "# Index Objects"
   ]
  },
  {
   "cell_type": "code",
   "execution_count": 32,
   "metadata": {},
   "outputs": [
    {
     "name": "stdout",
     "output_type": "stream",
     "text": [
      "a    0\n",
      "b    1\n",
      "c    2\n",
      "dtype: int64\n",
      "\n",
      "Printing Index\n",
      " Index(['a', 'b', 'c'], dtype='object')\n"
     ]
    },
    {
     "data": {
      "text/plain": [
       "Index(['c'], dtype='object')"
      ]
     },
     "execution_count": 32,
     "metadata": {},
     "output_type": "execute_result"
    }
   ],
   "source": [
    "series = pd.Series(range(3), index=['a','b','c'])\n",
    "print(series)\n",
    "index=series.index\n",
    "print(\"\\nPrinting Index\\n\",index)\n",
    "index[2:3]\n",
    "\n",
    "# index[1] = 'x' # This will give error since index objects are immutable"
   ]
  },
  {
   "cell_type": "code",
   "execution_count": 33,
   "metadata": {},
   "outputs": [
    {
     "name": "stdout",
     "output_type": "stream",
     "text": [
      "Int64Index([0, 1, 2], dtype='int64')\n",
      "0       Hi\n",
      "1    Hello\n",
      "2      How\n",
      "dtype: object\n",
      "\n",
      "Is series.index is same as labels\n",
      " True\n"
     ]
    }
   ],
   "source": [
    "# creating a index labels to work with pandas 'Series' and 'DataFrame'\n",
    "labels = pd.Index(np.arange(3))\n",
    "print(labels)\n",
    "series = pd.Series(['Hi','Hello','How'], index=labels)\n",
    "print(series)\n",
    "print(\"\\nIs series.index is same as labels\\n\",series.index is labels)"
   ]
  },
  {
   "cell_type": "code",
   "execution_count": 34,
   "metadata": {},
   "outputs": [
    {
     "name": "stdout",
     "output_type": "stream",
     "text": [
      "Index(['bar', 'foo', 'bar', 'far'], dtype='object')\n"
     ]
    }
   ],
   "source": [
    "# We can have duplicate elements in the Index\n",
    "labels_second = pd.Index(['bar','foo','bar','far'])\n",
    "print(labels_second)\n",
    "# ??labels[:]"
   ]
  },
  {
   "cell_type": "code",
   "execution_count": 35,
   "metadata": {},
   "outputs": [
    {
     "name": "stdout",
     "output_type": "stream",
     "text": [
      "\n",
      "Append\n",
      " Index([0, 1, 2, 'bar', 'foo', 'bar', 'far'], dtype='object')\n",
      "\n",
      " Difference\n",
      " Int64Index([0, 1, 2], dtype='int64')\n",
      "\n",
      " Difference\n",
      " Index(['bar', 'far', 'foo'], dtype='object')\n"
     ]
    }
   ],
   "source": [
    "# some methods used with Index\n",
    "new_label = labels.append(labels_second)\n",
    "print(\"\\nAppend\\n\",new_label)\n",
    "new_label = labels.difference(labels_second)\n",
    "print(\"\\n Difference\\n\",new_label)\n",
    "new_label = labels_second.difference(labels)\n",
    "print(\"\\n Difference\\n\",new_label)"
   ]
  },
  {
   "cell_type": "markdown",
   "metadata": {},
   "source": [
    "# Essential Functionality"
   ]
  },
  {
   "cell_type": "code",
   "execution_count": 36,
   "metadata": {},
   "outputs": [
    {
     "name": "stdout",
     "output_type": "stream",
     "text": [
      "Object ` Duplicate index cannot be reindexed` not found.\n",
      "0     23\n",
      "2     45\n",
      "5     56\n",
      "7    123\n",
      "dtype: int64\n",
      "2     45\n",
      "0     23\n",
      "5     56\n",
      "7    123\n",
      "dtype: int64\n",
      "0     23\n",
      "1     23\n",
      "2     45\n",
      "3     45\n",
      "4     45\n",
      "5     56\n",
      "6     56\n",
      "7    123\n",
      "dtype: int64\n"
     ]
    }
   ],
   "source": [
    "# Reindexing\n",
    "?? Duplicate index cannot be reindexed\n",
    "# print(obj)\n",
    "# obj.drop(labels=['Gowtham'])\n",
    "# print(obj)\n",
    "# reindexed_series = obj.reindex()\n",
    "# print(\"\\n reindexed_series \\n\",reindexed_series)\n",
    "\n",
    "obj = pd.Series([23,45,56,123], index=[0,2,5,7])\n",
    "print(obj)\n",
    "\n",
    "new_obj = obj.reindex([2,0,5,7])\n",
    "print(new_obj)\n",
    "\n",
    "# Reindexing with forward fill 'ffill'\n",
    "new_obj = obj.reindex(np.arange(8), method='ffill')\n",
    "print(new_obj)"
   ]
  },
  {
   "cell_type": "markdown",
   "metadata": {},
   "source": [
    "# Dropping Entries from an Axis"
   ]
  },
  {
   "cell_type": "code",
   "execution_count": 37,
   "metadata": {},
   "outputs": [
    {
     "name": "stdout",
     "output_type": "stream",
     "text": [
      "a    0\n",
      "b    1\n",
      "c    2\n",
      "d    3\n",
      "e    4\n",
      "e    5\n",
      "dtype: int32\n"
     ]
    }
   ],
   "source": [
    "obj = pd.Series(np.arange(6), index=['a','b','c','d','e','e'])\n",
    "print(obj)"
   ]
  },
  {
   "cell_type": "code",
   "execution_count": 38,
   "metadata": {},
   "outputs": [
    {
     "name": "stdout",
     "output_type": "stream",
     "text": [
      "a    0\n",
      "b    1\n",
      "d    3\n",
      "e    4\n",
      "e    5\n",
      "dtype: int32\n",
      "a    0\n",
      "d    3\n",
      "dtype: int32\n",
      "\n",
      " Printing old Series \n",
      "\n",
      "a    0\n",
      "b    1\n",
      "c    2\n",
      "d    3\n",
      "e    4\n",
      "e    5\n",
      "dtype: int32\n"
     ]
    }
   ],
   "source": [
    "new_obj = obj.drop('c')\n",
    "print(new_obj)\n",
    "new_obj = new_obj.drop(['b','e']) # Here removes the both index of 'e\n",
    "print(new_obj)\n",
    "print(\"\\n Printing old Series \\n\")\n",
    "# Here old object stil intact\n",
    "print(obj)"
   ]
  },
  {
   "cell_type": "code",
   "execution_count": 39,
   "metadata": {},
   "outputs": [
    {
     "data": {
      "text/html": [
       "<div>\n",
       "<style scoped>\n",
       "    .dataframe tbody tr th:only-of-type {\n",
       "        vertical-align: middle;\n",
       "    }\n",
       "\n",
       "    .dataframe tbody tr th {\n",
       "        vertical-align: top;\n",
       "    }\n",
       "\n",
       "    .dataframe thead th {\n",
       "        text-align: right;\n",
       "    }\n",
       "</style>\n",
       "<table border=\"1\" class=\"dataframe\">\n",
       "  <thead>\n",
       "    <tr style=\"text-align: right;\">\n",
       "      <th></th>\n",
       "      <th>one</th>\n",
       "      <th>two</th>\n",
       "      <th>three</th>\n",
       "      <th>four</th>\n",
       "    </tr>\n",
       "  </thead>\n",
       "  <tbody>\n",
       "    <tr>\n",
       "      <th>Tamilnadu</th>\n",
       "      <td>0</td>\n",
       "      <td>1</td>\n",
       "      <td>2</td>\n",
       "      <td>3</td>\n",
       "    </tr>\n",
       "    <tr>\n",
       "      <th>Kerala</th>\n",
       "      <td>4</td>\n",
       "      <td>5</td>\n",
       "      <td>6</td>\n",
       "      <td>7</td>\n",
       "    </tr>\n",
       "    <tr>\n",
       "      <th>Karnataka</th>\n",
       "      <td>8</td>\n",
       "      <td>9</td>\n",
       "      <td>10</td>\n",
       "      <td>11</td>\n",
       "    </tr>\n",
       "    <tr>\n",
       "      <th>Delhi</th>\n",
       "      <td>12</td>\n",
       "      <td>13</td>\n",
       "      <td>14</td>\n",
       "      <td>15</td>\n",
       "    </tr>\n",
       "  </tbody>\n",
       "</table>\n",
       "</div>"
      ],
      "text/plain": [
       "           one  two  three  four\n",
       "Tamilnadu    0    1      2     3\n",
       "Kerala       4    5      6     7\n",
       "Karnataka    8    9     10    11\n",
       "Delhi       12   13     14    15"
      ]
     },
     "execution_count": 39,
     "metadata": {},
     "output_type": "execute_result"
    }
   ],
   "source": [
    "frame=pd.DataFrame(np.arange(16).reshape(4,4),index=['Tamilnadu','Kerala','Karnataka','Delhi'],\n",
    "                    columns=['one','two','three','four'])\n",
    "frame"
   ]
  },
  {
   "cell_type": "code",
   "execution_count": 40,
   "metadata": {},
   "outputs": [
    {
     "data": {
      "text/html": [
       "<div>\n",
       "<style scoped>\n",
       "    .dataframe tbody tr th:only-of-type {\n",
       "        vertical-align: middle;\n",
       "    }\n",
       "\n",
       "    .dataframe tbody tr th {\n",
       "        vertical-align: top;\n",
       "    }\n",
       "\n",
       "    .dataframe thead th {\n",
       "        text-align: right;\n",
       "    }\n",
       "</style>\n",
       "<table border=\"1\" class=\"dataframe\">\n",
       "  <thead>\n",
       "    <tr style=\"text-align: right;\">\n",
       "      <th></th>\n",
       "      <th>one</th>\n",
       "      <th>two</th>\n",
       "      <th>three</th>\n",
       "      <th>four</th>\n",
       "    </tr>\n",
       "  </thead>\n",
       "  <tbody>\n",
       "    <tr>\n",
       "      <th>Tamilnadu</th>\n",
       "      <td>0</td>\n",
       "      <td>1</td>\n",
       "      <td>2</td>\n",
       "      <td>3</td>\n",
       "    </tr>\n",
       "    <tr>\n",
       "      <th>Karnataka</th>\n",
       "      <td>8</td>\n",
       "      <td>9</td>\n",
       "      <td>10</td>\n",
       "      <td>11</td>\n",
       "    </tr>\n",
       "    <tr>\n",
       "      <th>Delhi</th>\n",
       "      <td>12</td>\n",
       "      <td>13</td>\n",
       "      <td>14</td>\n",
       "      <td>15</td>\n",
       "    </tr>\n",
       "  </tbody>\n",
       "</table>\n",
       "</div>"
      ],
      "text/plain": [
       "           one  two  three  four\n",
       "Tamilnadu    0    1      2     3\n",
       "Karnataka    8    9     10    11\n",
       "Delhi       12   13     14    15"
      ]
     },
     "execution_count": 40,
     "metadata": {},
     "output_type": "execute_result"
    }
   ],
   "source": [
    "frame.drop(['Kerala'])"
   ]
  },
  {
   "cell_type": "code",
   "execution_count": 41,
   "metadata": {},
   "outputs": [
    {
     "name": "stdout",
     "output_type": "stream",
     "text": [
      "           one  two  four\n",
      "Tamilnadu    0    1     3\n",
      "Kerala       4    5     7\n",
      "Karnataka    8    9    11\n",
      "Delhi       12   13    15\n",
      "           one  two  three  four\n",
      "Tamilnadu    0    1      2     3\n",
      "Kerala       4    5      6     7\n",
      "Karnataka    8    9     10    11\n",
      "Delhi       12   13     14    15\n",
      "           one  two  four\n",
      "Tamilnadu    0    1     3\n",
      "Kerala       4    5     7\n",
      "Karnataka    8    9    11\n",
      "Delhi       12   13    15\n"
     ]
    }
   ],
   "source": [
    "print(frame.drop(['three'],axis='columns'))\n",
    "print(frame) # Actual frame details is still not modified\n",
    "# Then how to modify the actual frame object without returning new object\n",
    "frame.drop(['three'],axis='columns',inplace=True)\n",
    "# Now print the original frame's data\n",
    "print(frame)"
   ]
  },
  {
   "cell_type": "markdown",
   "metadata": {},
   "source": [
    "# Indexing, Selection, and Filtering"
   ]
  },
  {
   "cell_type": "code",
   "execution_count": 42,
   "metadata": {},
   "outputs": [
    {
     "name": "stdout",
     "output_type": "stream",
     "text": [
      "a    0\n",
      "b    1\n",
      "c    2\n",
      "d    3\n",
      "e    4\n",
      "e    5\n",
      "dtype: int32\n"
     ]
    }
   ],
   "source": [
    "# The main difference between the np array and Series is in nparray you cannot use index\n",
    "print(obj)"
   ]
  },
  {
   "cell_type": "code",
   "execution_count": 43,
   "metadata": {},
   "outputs": [
    {
     "name": "stdout",
     "output_type": "stream",
     "text": [
      "1\n",
      "1\n",
      "b    1\n",
      "d    3\n",
      "dtype: int32\n",
      "b    1\n",
      "e    4\n",
      "dtype: int32\n",
      "Range using interger\n",
      " c    2\n",
      "d    3\n",
      "dtype: int32\n",
      "Range using index\n",
      " a    0\n",
      "b    1\n",
      "c    2\n",
      "dtype: int32\n",
      "Conditional indexing \n",
      " a    0\n",
      "b    1\n",
      "c    2\n",
      "dtype: int32\n",
      "a    0\n",
      "b    0\n",
      "c    0\n",
      "d    3\n",
      "e    4\n",
      "e    5\n",
      "dtype: int32\n"
     ]
    }
   ],
   "source": [
    "print(obj['b']) # access through index value\n",
    "print(obj[1]) # access through integer value\n",
    "print(obj[['b','d']]) # access through index value\n",
    "print(obj[[1,4]]) # access through integer value\n",
    "print(\"Range using interger\\n\", obj[2:4])\n",
    "print(\"Range using index\\n\", obj['a':'c'])\n",
    "print(\"Conditional indexing \\n\",obj[obj<3])\n",
    "obj[obj<3]=0 # Modify the element usign index\n",
    "print(obj)"
   ]
  },
  {
   "cell_type": "code",
   "execution_count": 44,
   "metadata": {},
   "outputs": [
    {
     "name": "stdout",
     "output_type": "stream",
     "text": [
      "           one  two  four\n",
      "Tamilnadu    0    1     3\n",
      "Kerala       4    5     7\n",
      "Karnataka    8    9    11\n",
      "Delhi       12   13    15\n"
     ]
    }
   ],
   "source": [
    "# Indexing in the DataFrame\n",
    "print(frame) "
   ]
  },
  {
   "cell_type": "code",
   "execution_count": 45,
   "metadata": {},
   "outputs": [
    {
     "name": "stdout",
     "output_type": "stream",
     "text": [
      "Tamilnadu     0\n",
      "Kerala        4\n",
      "Karnataka     8\n",
      "Delhi        12\n",
      "Name: one, dtype: int32\n",
      "           one  four\n",
      "Tamilnadu    0     3\n",
      "Kerala       4     7\n",
      "Karnataka    8    11\n",
      "Delhi       12    15\n"
     ]
    }
   ],
   "source": [
    "print(frame['one'])\n",
    "print(frame[['one','four']])"
   ]
  },
  {
   "cell_type": "code",
   "execution_count": 46,
   "metadata": {},
   "outputs": [
    {
     "name": "stdout",
     "output_type": "stream",
     "text": [
      "           one  two  four\n",
      "Karnataka    8    9    11\n",
      "Delhi       12   13    15\n"
     ]
    }
   ],
   "source": [
    "print(frame[frame['four']>7])"
   ]
  },
  {
   "cell_type": "code",
   "execution_count": 47,
   "metadata": {},
   "outputs": [
    {
     "name": "stdout",
     "output_type": "stream",
     "text": [
      "             one    two   four\n",
      "Tamilnadu   True   True   True\n",
      "Kerala      True  False  False\n",
      "Karnataka  False  False  False\n",
      "Delhi      False  False  False\n",
      "           one  two  four\n",
      "Tamilnadu    0    0     0\n",
      "Kerala       0    0     0\n",
      "Karnataka    0    0    11\n",
      "Delhi       12   13    15\n"
     ]
    }
   ],
   "source": [
    "print(frame<5)\n",
    "frame[frame<11]=0\n",
    "print(frame)"
   ]
  },
  {
   "cell_type": "markdown",
   "metadata": {},
   "source": [
    "### Selection with loc and iloc"
   ]
  },
  {
   "cell_type": "code",
   "execution_count": 48,
   "metadata": {},
   "outputs": [
    {
     "name": "stdout",
     "output_type": "stream",
     "text": [
      "two    13\n",
      "Name: Delhi, dtype: int32\n",
      "two     13\n",
      "four    15\n",
      "Name: Delhi, dtype: int32\n"
     ]
    }
   ],
   "source": [
    "# loc and iloc\n",
    "# Using loc\n",
    "print(frame.loc['Delhi',['two']]) # selecting a subset of a row element\n",
    "print(frame.loc['Delhi',['two','four']])"
   ]
  },
  {
   "cell_type": "code",
   "execution_count": 49,
   "metadata": {},
   "outputs": [
    {
     "ename": "SyntaxError",
     "evalue": "invalid syntax (<ipython-input-49-2483c8a92d6f>, line 4)",
     "output_type": "error",
     "traceback": [
      "\u001b[1;36m  File \u001b[1;32m\"<ipython-input-49-2483c8a92d6f>\"\u001b[1;36m, line \u001b[1;32m4\u001b[0m\n\u001b[1;33m    For the same oper\u001b[0m\n\u001b[1;37m          ^\u001b[0m\n\u001b[1;31mSyntaxError\u001b[0m\u001b[1;31m:\u001b[0m invalid syntax\n"
     ]
    }
   ],
   "source": [
    "# Using iloc\n",
    "print(frame.iloc[3,[0,2]])\n",
    "\n",
    "For the same oper"
   ]
  },
  {
   "cell_type": "markdown",
   "metadata": {},
   "source": [
    "## Integer Indexes"
   ]
  },
  {
   "cell_type": "code",
   "execution_count": null,
   "metadata": {},
   "outputs": [],
   "source": [
    "# Always use loc and iloc for indexing in pandas\n",
    "# since it is very confusing for integer index\n",
    "series = pd.Series(np.arange(3.0))\n",
    "print(series)\n",
    "# print(series[-1]) # In pandas above code will through error\n",
    "# This is because inferring what user wants(label-bssed indexing or position-based) is difficult\n",
    "\n",
    "# so to maintain the consistent if you have an axis index containing integers, data selection will always be label oriented.\n",
    "\n",
    "# for precise handling use loc(for labels) and iloc(for integers)\n",
    "print(\"Using loc\\n\",series.loc[:2])\n",
    "print(\"Using iloc\\n\",series.iloc[:2])"
   ]
  },
  {
   "cell_type": "markdown",
   "metadata": {},
   "source": [
    "# Arithmetic and Data Alignment"
   ]
  },
  {
   "cell_type": "code",
   "execution_count": null,
   "metadata": {},
   "outputs": [],
   "source": [
    "# In Pandas when you adding together objects, if any index pairs are not same, the respective index\n",
    "# in the result will be Union of the index pairs."
   ]
  },
  {
   "cell_type": "code",
   "execution_count": null,
   "metadata": {},
   "outputs": [],
   "source": [
    "series1 = pd.Series([7.3, 3.5, -2.5, 9.3, 2.6],index=['a','c','e','f','g'])\n",
    "series2 = pd.Series([3.0, -2.3, 4.7, 2.1, 8.3],index=['a','e','f','g','h'])\n",
    "print(\"series1\\n\",series1)\n",
    "print(\"series2\\n\",series2)"
   ]
  },
  {
   "cell_type": "code",
   "execution_count": null,
   "metadata": {},
   "outputs": [],
   "source": [
    "print(series1+series2)\n",
    "# Missing values are introduced in the label locations that dont overlap"
   ]
  },
  {
   "cell_type": "code",
   "execution_count": null,
   "metadata": {},
   "outputs": [],
   "source": [
    "# In case of DataFrame, alingment is performed on both the rows and the columns.\n",
    "dataFrame1 = pd.DataFrame(np.arange(9.0).reshape(3,3),columns=list('bcd'),\n",
    "                          index=['Tamilnadu','Kerala','Mumbai'])\n",
    "\n",
    "dataFrame2 = pd.DataFrame(np.arange(12.0).reshape(4,3),columns=list('bde'),\n",
    "                          index=['karnataka','Tamilnadu','Kerala','Delhi'])"
   ]
  },
  {
   "cell_type": "code",
   "execution_count": null,
   "metadata": {},
   "outputs": [],
   "source": [
    "print(\"dataFrame1\\n\",dataFrame1)\n",
    "print(\"dataFrame2\\n\",dataFrame2)"
   ]
  },
  {
   "cell_type": "code",
   "execution_count": null,
   "metadata": {},
   "outputs": [],
   "source": [
    "print(\"Sum of two DataFrame:\\n\",dataFrame1 + dataFrame2)\n",
    "print(\"Sun of two DataFrame:\\n\",dataFrame1 - dataFrame2)"
   ]
  },
  {
   "cell_type": "code",
   "execution_count": null,
   "metadata": {},
   "outputs": [],
   "source": [
    "# If you add DataFrame object with no row and column label then result object will be all Nulls.\n",
    "dataFrame1 = pd.DataFrame({'A':[1,2]})\n",
    "dataFrame2 = pd.DataFrame({'B':[1,2]})\n",
    "print(\"dataFrame1\\n\",dataFrame1)\n",
    "print(\"dataFrame2\\n\",dataFrame2)"
   ]
  },
  {
   "cell_type": "code",
   "execution_count": null,
   "metadata": {},
   "outputs": [],
   "source": [
    "print(\"Sum of two DataFrame:\\n\",dataFrame1 + dataFrame2)\n",
    "print(\"Sub of two DataFrame:\\n\",dataFrame1 - dataFrame2)"
   ]
  },
  {
   "cell_type": "markdown",
   "metadata": {},
   "source": [
    "# Arithmetic methods with fill values"
   ]
  },
  {
   "cell_type": "code",
   "execution_count": null,
   "metadata": {},
   "outputs": [],
   "source": [
    "?? Needs to be completed"
   ]
  },
  {
   "cell_type": "markdown",
   "metadata": {},
   "source": [
    "### Operations between DataFrame and Series"
   ]
  },
  {
   "cell_type": "code",
   "execution_count": null,
   "metadata": {},
   "outputs": [],
   "source": [
    "# broadcasting in numpy array\n",
    "arr = np.arange(12.0).reshape(4,3)\n",
    "print(arr)"
   ]
  },
  {
   "cell_type": "code",
   "execution_count": null,
   "metadata": {},
   "outputs": [],
   "source": [
    "print(arr - arr[0])\n",
    "# Here all the rows are subtracted with a[0]. This is called brodcasting."
   ]
  },
  {
   "cell_type": "code",
   "execution_count": null,
   "metadata": {},
   "outputs": [],
   "source": [
    "# Broadcasting in Series and DataFrame\n",
    "frame = pd.DataFrame(np.arange(12.).reshape(4,3), columns=list('bde'),index=['Kerala', 'Tamilnadu', 'Karnataka', 'Delhi'])\n",
    "print(frame)\n",
    "series = frame.iloc[0]\n",
    "print(series)"
   ]
  },
  {
   "cell_type": "code",
   "execution_count": null,
   "metadata": {},
   "outputs": [],
   "source": [
    "# Performing Arithamatic between DataFrame and Series\n",
    "# Here index of the series is matched with columns of the DataFrame.\n",
    "print(frame - series) # Actally broadcasting heppens here.\n"
   ]
  },
  {
   "cell_type": "code",
   "execution_count": null,
   "metadata": {},
   "outputs": [],
   "source": [
    "# If an index value is not found in either the DataFrame’s columns or the Series’s index,\n",
    "# the objects will be reindexed to form the union\n",
    "series2 = pd.Series(range(3),index=list('aef'))\n",
    "print(frame)\n",
    "print(series2)"
   ]
  },
  {
   "cell_type": "code",
   "execution_count": null,
   "metadata": {},
   "outputs": [],
   "source": [
    "print(frame + series2)\n",
    "print(frame - series2)"
   ]
  },
  {
   "cell_type": "code",
   "execution_count": null,
   "metadata": {},
   "outputs": [],
   "source": [
    "# colume wise arithamatic\n",
    "print(frame)\n",
    "series3 = frame['d']\n",
    "print(series3)"
   ]
  },
  {
   "cell_type": "code",
   "execution_count": null,
   "metadata": {},
   "outputs": [],
   "source": [
    "# The axis number that you pass is the axis to match on. In this case we mean to match\n",
    "# on the DataFrame’s row index (axis='index' or axis=0) and broadcast across\n",
    "frame.sub(series3,axis=0)"
   ]
  },
  {
   "cell_type": "markdown",
   "metadata": {},
   "source": [
    "## Function Application and Mapping"
   ]
  },
  {
   "cell_type": "code",
   "execution_count": null,
   "metadata": {},
   "outputs": [],
   "source": [
    "frame = pd.DataFrame(np.random.randn(4,3),columns=list('bef'),index=['Tamil','English','hindi','Malayalam'])\n",
    "frame"
   ]
  },
  {
   "cell_type": "code",
   "execution_count": null,
   "metadata": {},
   "outputs": [],
   "source": [
    "np.abs(frame)"
   ]
  },
  {
   "cell_type": "code",
   "execution_count": null,
   "metadata": {},
   "outputs": [],
   "source": [
    "f = lambda x:x.max() - x.min()\n",
    "frame.apply(f, axis=0) # here axis='index'"
   ]
  },
  {
   "cell_type": "code",
   "execution_count": null,
   "metadata": {},
   "outputs": [],
   "source": [
    "frame.apply(f, axis=1) # here axis='index'"
   ]
  },
  {
   "cell_type": "code",
   "execution_count": null,
   "metadata": {},
   "outputs": [],
   "source": [
    "# The function passed to apply need not return a scalar value; it can also return a Series\n",
    "# with multiple values\n",
    "\n",
    "def f(x):\n",
    "    return pd.Series([x.min(), x.max()], index=['min', 'max'])\n",
    "print(frame)"
   ]
  },
  {
   "cell_type": "code",
   "execution_count": null,
   "metadata": {},
   "outputs": [],
   "source": [
    "frame.apply(f)"
   ]
  },
  {
   "cell_type": "code",
   "execution_count": null,
   "metadata": {},
   "outputs": [],
   "source": [
    "print(frame)\n",
    "format1 = lambda x : '%.2f' % x\n",
    "frame.applymap(format1)"
   ]
  },
  {
   "cell_type": "markdown",
   "metadata": {},
   "source": [
    "## Sorting and Ranking"
   ]
  },
  {
   "cell_type": "code",
   "execution_count": null,
   "metadata": {},
   "outputs": [],
   "source": [
    "series = Series(np.arange(4),index=['r','a','c','s'])\n",
    "series"
   ]
  },
  {
   "cell_type": "code",
   "execution_count": null,
   "metadata": {},
   "outputs": [],
   "source": [
    "# Index is sorted alphabetically.\n",
    "series.sort_index() "
   ]
  },
  {
   "cell_type": "code",
   "execution_count": null,
   "metadata": {},
   "outputs": [],
   "source": [
    "frame = DataFrame(np.arange(12).reshape(4,3), index=['r','a','c','s'],columns=['one','three','Four'])\n",
    "frame"
   ]
  },
  {
   "cell_type": "code",
   "execution_count": null,
   "metadata": {},
   "outputs": [],
   "source": [
    "frame.sort_index()"
   ]
  },
  {
   "cell_type": "code",
   "execution_count": null,
   "metadata": {},
   "outputs": [],
   "source": [
    "frame.sort_index(axis=1)"
   ]
  },
  {
   "cell_type": "code",
   "execution_count": null,
   "metadata": {},
   "outputs": [],
   "source": [
    "# You can use ascending order also.\n",
    "frame.sort_index(axis=1,ascending=False)"
   ]
  },
  {
   "cell_type": "code",
   "execution_count": null,
   "metadata": {},
   "outputs": [],
   "source": [
    "series = pd.Series([4,7,-3,1])\n",
    "print(\"Original:\\n\",series)\n",
    "print(\"Sorted:\\n\",series.sort_values())\n"
   ]
  },
  {
   "cell_type": "code",
   "execution_count": null,
   "metadata": {},
   "outputs": [],
   "source": [
    "series = pd.Series([4,7,np.nan,-3,1])\n",
    "print(\"Original:\\n\",series)\n",
    "# Here any missing values are sorted to the end\n",
    "print(\"Sorted:\\n\",series.sort_values())"
   ]
  },
  {
   "cell_type": "code",
   "execution_count": null,
   "metadata": {},
   "outputs": [],
   "source": [
    "frame = pd.DataFrame({'b':[4,7,-3,2], 'a':[0,1,0,1]})\n",
    "frame"
   ]
  },
  {
   "cell_type": "code",
   "execution_count": null,
   "metadata": {},
   "outputs": [],
   "source": [
    "# Here column b is sorted here.\n",
    "frame.sort_values(by='b')\n",
    "print(frame)\n",
    "# To sort a multiple colume pass a list of names\n",
    "frame.sort_values(by=['a','b']) # here b column is sorted wrongly because in [a,b] a have higher priority\n",
    "print(\"Sorting multiple index\\n\",frame)"
   ]
  },
  {
   "cell_type": "markdown",
   "metadata": {},
   "source": [
    "### Ranking"
   ]
  },
  {
   "cell_type": "markdown",
   "metadata": {},
   "source": [
    "###### This below code will be little confsion for first time readers. \n",
    "###### Please refer the below link for more explanation\n",
    "https://www.w3resource.com/pandas/dataframe/dataframe-rank.php"
   ]
  },
  {
   "cell_type": "code",
   "execution_count": null,
   "metadata": {},
   "outputs": [],
   "source": [
    "series = pd.Series([7,-5,7,4,2,0,4])\n",
    "print(obj.rank())\n",
    "print(obj.rank(method='first'))\n",
    "print(obj.rank(method='max'))"
   ]
  },
  {
   "cell_type": "markdown",
   "metadata": {},
   "source": [
    "#### Axis Indexes with Duplicate Labels"
   ]
  },
  {
   "cell_type": "code",
   "execution_count": null,
   "metadata": {},
   "outputs": [],
   "source": [
    "# Here duplicate index values are used\n",
    "obj = pd.Series(range(5),index=['a','a','b','b','c'])\n",
    "print(obj)"
   ]
  },
  {
   "cell_type": "code",
   "execution_count": null,
   "metadata": {},
   "outputs": [],
   "source": [
    "# is_unique will check if index is unique\n",
    "obj.index.is_unique"
   ]
  },
  {
   "cell_type": "code",
   "execution_count": null,
   "metadata": {},
   "outputs": [],
   "source": [
    "# Data selection is the only problem we could encounter when we have duplicate index labels\n",
    "print(\"Accessing duplicate index value:\\n\",obj['b']) # here it will return as a list\n",
    "print(\"Accessing non index value:\\n\",obj['c']) # here it will return as scalar value"
   ]
  },
  {
   "cell_type": "code",
   "execution_count": null,
   "metadata": {},
   "outputs": [],
   "source": [
    "# Same duplicate logic for DataFrame\n",
    "df = DataFrame(np.random.randn(4,3),index=['a','b','b','c'])\n",
    "print(df)\n",
    "print(\"Accessing the Index:\\n\",df.loc['b'])"
   ]
  },
  {
   "cell_type": "markdown",
   "metadata": {},
   "source": [
    "### Computing Descriptive Statistics"
   ]
  },
  {
   "cell_type": "code",
   "execution_count": null,
   "metadata": {},
   "outputs": [],
   "source": [
    "df = pd.DataFrame([[1.2,np.nan],[1.3, 0.8],[5.3,0.2],[4,np.nan]],\n",
    "                  index=['a','b','c','d'],\n",
    "                  columns=['one','two'])\n",
    "df"
   ]
  },
  {
   "cell_type": "code",
   "execution_count": null,
   "metadata": {},
   "outputs": [],
   "source": [
    "df.sum() # By default it will sum the rows"
   ]
  },
  {
   "cell_type": "code",
   "execution_count": null,
   "metadata": {},
   "outputs": [],
   "source": [
    "df.sum(axis='columns')\n"
   ]
  },
  {
   "cell_type": "code",
   "execution_count": null,
   "metadata": {},
   "outputs": [],
   "source": [
    "df.sum(axis='columns',skipna=False)"
   ]
  },
  {
   "cell_type": "code",
   "execution_count": null,
   "metadata": {},
   "outputs": [],
   "source": [
    "df.idxmax() # Gives the index of maximum value"
   ]
  },
  {
   "cell_type": "code",
   "execution_count": null,
   "metadata": {},
   "outputs": [],
   "source": [
    "df.cumsum() # cumulative addition"
   ]
  },
  {
   "cell_type": "code",
   "execution_count": null,
   "metadata": {},
   "outputs": [],
   "source": [
    "# It will give the all statistics about the \n",
    "df.describe()"
   ]
  },
  {
   "cell_type": "code",
   "execution_count": null,
   "metadata": {},
   "outputs": [],
   "source": [
    "obj = pd.Series(['a', 'a', 'b', 'c'])\n",
    "obj.describe()"
   ]
  },
  {
   "cell_type": "code",
   "execution_count": null,
   "metadata": {},
   "outputs": [],
   "source": [
    "?skew Sample skewness (third moment) of values\n",
    "?kurt Sample kurtosis (fourth moment) of values\n",
    "print(df.skew())\n",
    "print(df.kurt())"
   ]
  },
  {
   "cell_type": "markdown",
   "metadata": {},
   "source": [
    "### Correlation and Covariance"
   ]
  },
  {
   "cell_type": "code",
   "execution_count": null,
   "metadata": {},
   "outputs": [],
   "source": [
    "import pandas_datareader.data as web\n"
   ]
  },
  {
   "cell_type": "code",
   "execution_count": null,
   "metadata": {},
   "outputs": [],
   "source": [
    "# This section needs to be updated\n",
    "\n",
    "# all_data={ticker: web.get_data_yahoo(ticker)\n",
    "#          for ticker in ['APPL','IBM','MSFT','GOOG']}"
   ]
  },
  {
   "cell_type": "markdown",
   "metadata": {},
   "source": [
    "### Unique Values, Value Counts, and Membership"
   ]
  },
  {
   "cell_type": "code",
   "execution_count": 65,
   "metadata": {},
   "outputs": [
    {
     "name": "stdout",
     "output_type": "stream",
     "text": [
      "Print unique index: ['c' 'a' 'd' 'b']\n",
      "Print index frequency :\n",
      " a    4\n",
      "b    2\n",
      "c    2\n",
      "d    1\n",
      "dtype: int64\n",
      "Value count in Pandas:\n",
      " a    4\n",
      "d    1\n",
      "c    2\n",
      "b    2\n",
      "dtype: int64\n"
     ]
    }
   ],
   "source": [
    "obj = pd.Series(['c','a','d','a','a','a','b','b','c'])\n",
    "print(\"Print unique index:\",obj.unique()) # prints the unique values\n",
    "print(\"Print index frequency :\\n\",obj.value_counts()) # prints the frequncy of a each value\n",
    "# Value count as Top level pandas method\n",
    "# Where you can pass any array or sequnce\n",
    "print(\"Value count in Pandas:\\n\",pd.value_counts(obj , sort=False))"
   ]
  },
  {
   "cell_type": "code",
   "execution_count": 70,
   "metadata": {},
   "outputs": [
    {
     "name": "stdout",
     "output_type": "stream",
     "text": [
      "0     True\n",
      "1    False\n",
      "2    False\n",
      "3    False\n",
      "4    False\n",
      "5    False\n",
      "6     True\n",
      "7     True\n",
      "8     True\n",
      "dtype: bool\n"
     ]
    }
   ],
   "source": [
    "# isin checkes the given value in each position\n",
    "print(obj.isin(['b','c']))"
   ]
  },
  {
   "cell_type": "code",
   "execution_count": 72,
   "metadata": {},
   "outputs": [
    {
     "data": {
      "text/plain": [
       "0    c\n",
       "6    b\n",
       "7    b\n",
       "8    c\n",
       "dtype: object"
      ]
     },
     "execution_count": 72,
     "metadata": {},
     "output_type": "execute_result"
    }
   ],
   "source": [
    "# object masking\n",
    "mask = obj.isin(['b','c'])\n",
    "obj[mask]"
   ]
  },
  {
   "cell_type": "code",
   "execution_count": 78,
   "metadata": {},
   "outputs": [
    {
     "name": "stdout",
     "output_type": "stream",
     "text": [
      "Index(['c', 'b', 'a'], dtype='object')\n",
      "[0 2 1 1 0 2]\n"
     ]
    }
   ],
   "source": [
    "# Another related method related to 'isin'\n",
    "to_match= pd.Series(['c', 'a', 'b', 'b', 'c', 'a'])\n",
    "unique_vals = pd.Series(['c', 'b', 'a'])\n",
    "print(pd.Index(unique_vals)) # unique value series. Here c=0, b=1, a=2\n",
    "print(pd.Index(unique_vals).get_indexer(to_match)) # matching unique_vals into to_match array"
   ]
  },
  {
   "cell_type": "code",
   "execution_count": null,
   "metadata": {},
   "outputs": [],
   "source": []
  },
  {
   "cell_type": "markdown",
   "metadata": {},
   "source": [
    "# Data Loading, Storage, and File Formats"
   ]
  },
  {
   "cell_type": "markdown",
   "metadata": {},
   "source": [
    "### Reading and Writing Data in Text Format"
   ]
  },
  {
   "cell_type": "code",
   "execution_count": 79,
   "metadata": {},
   "outputs": [],
   "source": [
    "# This section describes how to Read and Write Data in Text format\n"
   ]
  },
  {
   "cell_type": "code",
   "execution_count": null,
   "metadata": {},
   "outputs": [],
   "source": []
  },
  {
   "cell_type": "code",
   "execution_count": null,
   "metadata": {},
   "outputs": [],
   "source": []
  },
  {
   "cell_type": "code",
   "execution_count": null,
   "metadata": {},
   "outputs": [],
   "source": []
  },
  {
   "cell_type": "code",
   "execution_count": null,
   "metadata": {},
   "outputs": [],
   "source": []
  },
  {
   "cell_type": "code",
   "execution_count": null,
   "metadata": {},
   "outputs": [],
   "source": []
  },
  {
   "cell_type": "code",
   "execution_count": null,
   "metadata": {},
   "outputs": [],
   "source": []
  },
  {
   "cell_type": "code",
   "execution_count": null,
   "metadata": {},
   "outputs": [],
   "source": []
  },
  {
   "cell_type": "code",
   "execution_count": null,
   "metadata": {},
   "outputs": [],
   "source": []
  },
  {
   "cell_type": "code",
   "execution_count": null,
   "metadata": {},
   "outputs": [],
   "source": []
  },
  {
   "cell_type": "code",
   "execution_count": null,
   "metadata": {},
   "outputs": [],
   "source": []
  },
  {
   "cell_type": "code",
   "execution_count": null,
   "metadata": {},
   "outputs": [],
   "source": []
  },
  {
   "cell_type": "code",
   "execution_count": null,
   "metadata": {},
   "outputs": [],
   "source": []
  },
  {
   "cell_type": "code",
   "execution_count": null,
   "metadata": {},
   "outputs": [],
   "source": []
  },
  {
   "cell_type": "code",
   "execution_count": null,
   "metadata": {},
   "outputs": [],
   "source": []
  },
  {
   "cell_type": "code",
   "execution_count": null,
   "metadata": {},
   "outputs": [],
   "source": []
  },
  {
   "cell_type": "code",
   "execution_count": null,
   "metadata": {},
   "outputs": [],
   "source": []
  },
  {
   "cell_type": "code",
   "execution_count": null,
   "metadata": {},
   "outputs": [],
   "source": []
  },
  {
   "cell_type": "code",
   "execution_count": null,
   "metadata": {},
   "outputs": [],
   "source": []
  },
  {
   "cell_type": "code",
   "execution_count": null,
   "metadata": {},
   "outputs": [],
   "source": []
  },
  {
   "cell_type": "code",
   "execution_count": null,
   "metadata": {},
   "outputs": [],
   "source": []
  }
 ],
 "metadata": {
  "kernelspec": {
   "display_name": "Python 3",
   "language": "python",
   "name": "python3"
  },
  "language_info": {
   "codemirror_mode": {
    "name": "ipython",
    "version": 3
   },
   "file_extension": ".py",
   "mimetype": "text/x-python",
   "name": "python",
   "nbconvert_exporter": "python",
   "pygments_lexer": "ipython3",
   "version": "3.7.6"
  }
 },
 "nbformat": 4,
 "nbformat_minor": 2
}
